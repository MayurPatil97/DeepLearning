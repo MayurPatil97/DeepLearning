{
 "cells": [
  {
   "cell_type": "code",
   "execution_count": 1,
   "metadata": {},
   "outputs": [],
   "source": [
    "import pandas as pd\n",
    "import numpy as np\n",
    "import matplotlib.pyplot as plt\n",
    "\n",
    "from tensorflow.keras.models import Sequential\n",
    "from tensorflow.keras.layers import Dense\n",
    "\n",
    "from sklearn.model_selection import train_test_split\n",
    "from sklearn.preprocessing import StandardScaler"
   ]
  },
  {
   "cell_type": "code",
   "execution_count": 2,
   "metadata": {},
   "outputs": [],
   "source": [
    "df=pd.read_csv(\"insurance.csv\")"
   ]
  },
  {
   "cell_type": "code",
   "execution_count": 3,
   "metadata": {},
   "outputs": [
    {
     "data": {
      "text/plain": [
       "(1338, 8)"
      ]
     },
     "execution_count": 3,
     "metadata": {},
     "output_type": "execute_result"
    }
   ],
   "source": [
    "df.shape"
   ]
  },
  {
   "cell_type": "code",
   "execution_count": 4,
   "metadata": {},
   "outputs": [
    {
     "data": {
      "text/html": [
       "<div>\n",
       "<style scoped>\n",
       "    .dataframe tbody tr th:only-of-type {\n",
       "        vertical-align: middle;\n",
       "    }\n",
       "\n",
       "    .dataframe tbody tr th {\n",
       "        vertical-align: top;\n",
       "    }\n",
       "\n",
       "    .dataframe thead th {\n",
       "        text-align: right;\n",
       "    }\n",
       "</style>\n",
       "<table border=\"1\" class=\"dataframe\">\n",
       "  <thead>\n",
       "    <tr style=\"text-align: right;\">\n",
       "      <th></th>\n",
       "      <th>age</th>\n",
       "      <th>sex</th>\n",
       "      <th>bmi</th>\n",
       "      <th>children</th>\n",
       "      <th>smoker</th>\n",
       "      <th>region</th>\n",
       "      <th>charges</th>\n",
       "      <th>insuranceclaim</th>\n",
       "    </tr>\n",
       "  </thead>\n",
       "  <tbody>\n",
       "    <tr>\n",
       "      <th>0</th>\n",
       "      <td>19</td>\n",
       "      <td>0</td>\n",
       "      <td>27.900</td>\n",
       "      <td>0</td>\n",
       "      <td>1</td>\n",
       "      <td>3</td>\n",
       "      <td>16884.92400</td>\n",
       "      <td>1</td>\n",
       "    </tr>\n",
       "    <tr>\n",
       "      <th>1</th>\n",
       "      <td>18</td>\n",
       "      <td>1</td>\n",
       "      <td>33.770</td>\n",
       "      <td>1</td>\n",
       "      <td>0</td>\n",
       "      <td>2</td>\n",
       "      <td>1725.55230</td>\n",
       "      <td>1</td>\n",
       "    </tr>\n",
       "    <tr>\n",
       "      <th>2</th>\n",
       "      <td>28</td>\n",
       "      <td>1</td>\n",
       "      <td>33.000</td>\n",
       "      <td>3</td>\n",
       "      <td>0</td>\n",
       "      <td>2</td>\n",
       "      <td>4449.46200</td>\n",
       "      <td>0</td>\n",
       "    </tr>\n",
       "    <tr>\n",
       "      <th>3</th>\n",
       "      <td>33</td>\n",
       "      <td>1</td>\n",
       "      <td>22.705</td>\n",
       "      <td>0</td>\n",
       "      <td>0</td>\n",
       "      <td>1</td>\n",
       "      <td>21984.47061</td>\n",
       "      <td>0</td>\n",
       "    </tr>\n",
       "    <tr>\n",
       "      <th>4</th>\n",
       "      <td>32</td>\n",
       "      <td>1</td>\n",
       "      <td>28.880</td>\n",
       "      <td>0</td>\n",
       "      <td>0</td>\n",
       "      <td>1</td>\n",
       "      <td>3866.85520</td>\n",
       "      <td>1</td>\n",
       "    </tr>\n",
       "  </tbody>\n",
       "</table>\n",
       "</div>"
      ],
      "text/plain": [
       "   age  sex     bmi  children  smoker  region      charges  insuranceclaim\n",
       "0   19    0  27.900         0       1       3  16884.92400               1\n",
       "1   18    1  33.770         1       0       2   1725.55230               1\n",
       "2   28    1  33.000         3       0       2   4449.46200               0\n",
       "3   33    1  22.705         0       0       1  21984.47061               0\n",
       "4   32    1  28.880         0       0       1   3866.85520               1"
      ]
     },
     "execution_count": 4,
     "metadata": {},
     "output_type": "execute_result"
    }
   ],
   "source": [
    "df.head()"
   ]
  },
  {
   "cell_type": "code",
   "execution_count": 5,
   "metadata": {},
   "outputs": [],
   "source": [
    "y = df[\"insuranceclaim\"]\n",
    "X = df.drop(\"insuranceclaim\",axis=1)\n",
    "X_train,X_test,y_train,y_test = train_test_split(X,y,test_size=0.3,random_state=1)"
   ]
  },
  {
   "cell_type": "code",
   "execution_count": 6,
   "metadata": {},
   "outputs": [],
   "source": [
    "\n",
    "ss = StandardScaler()\n",
    "X_train_ss = ss.fit_transform(X_train)\n",
    "X_test_ss = ss.transform(X_test)"
   ]
  },
  {
   "cell_type": "code",
   "execution_count": 8,
   "metadata": {},
   "outputs": [],
   "source": [
    "model = Sequential()\n",
    "model.add(Dense(16,activation=\"tanh\", input_dim=7))\n",
    "model.add(Dense(8,activation=\"tanh\"))\n",
    "model.add(Dense(1, activation=\"sigmoid\"))"
   ]
  },
  {
   "cell_type": "code",
   "execution_count": 9,
   "metadata": {},
   "outputs": [],
   "source": [
    "model.compile(optimizer=\"adam\", loss=\"binary_crossentropy\")"
   ]
  },
  {
   "cell_type": "code",
   "execution_count": 10,
   "metadata": {},
   "outputs": [
    {
     "name": "stdout",
     "output_type": "stream",
     "text": [
      "Epoch 1/50\n",
      "30/30 [==============================] - 0s 1ms/step - loss: 0.6233\n",
      "Epoch 2/50\n",
      "30/30 [==============================] - 0s 1ms/step - loss: 0.5633\n",
      "Epoch 3/50\n",
      "30/30 [==============================] - 0s 897us/step - loss: 0.5112\n",
      "Epoch 4/50\n",
      "30/30 [==============================] - 0s 1ms/step - loss: 0.4640\n",
      "Epoch 5/50\n",
      "30/30 [==============================] - 0s 896us/step - loss: 0.4256\n",
      "Epoch 6/50\n",
      "30/30 [==============================] - 0s 896us/step - loss: 0.3951\n",
      "Epoch 7/50\n",
      "30/30 [==============================] - 0s 1ms/step - loss: 0.3725\n",
      "Epoch 8/50\n",
      "30/30 [==============================] - 0s 931us/step - loss: 0.3562\n",
      "Epoch 9/50\n",
      "30/30 [==============================] - 0s 931us/step - loss: 0.3445\n",
      "Epoch 10/50\n",
      "30/30 [==============================] - 0s 965us/step - loss: 0.3362\n",
      "Epoch 11/50\n",
      "30/30 [==============================] - 0s 966us/step - loss: 0.3293\n",
      "Epoch 12/50\n",
      "30/30 [==============================] - 0s 897us/step - loss: 0.3239\n",
      "Epoch 13/50\n",
      "30/30 [==============================] - 0s 966us/step - loss: 0.3203\n",
      "Epoch 14/50\n",
      "30/30 [==============================] - 0s 931us/step - loss: 0.3166\n",
      "Epoch 15/50\n",
      "30/30 [==============================] - 0s 1000us/step - loss: 0.3134\n",
      "Epoch 16/50\n",
      "30/30 [==============================] - 0s 897us/step - loss: 0.3108\n",
      "Epoch 17/50\n",
      "30/30 [==============================] - 0s 1ms/step - loss: 0.3084\n",
      "Epoch 18/50\n",
      "30/30 [==============================] - 0s 1ms/step - loss: 0.3063\n",
      "Epoch 19/50\n",
      "30/30 [==============================] - 0s 1ms/step - loss: 0.3029\n",
      "Epoch 20/50\n",
      "30/30 [==============================] - 0s 1ms/step - loss: 0.3004\n",
      "Epoch 21/50\n",
      "30/30 [==============================] - 0s 1ms/step - loss: 0.2973\n",
      "Epoch 22/50\n",
      "30/30 [==============================] - 0s 1ms/step - loss: 0.2948\n",
      "Epoch 23/50\n",
      "30/30 [==============================] - ETA: 0s - loss: 0.334 - 0s 1ms/step - loss: 0.2929\n",
      "Epoch 24/50\n",
      "30/30 [==============================] - 0s 1ms/step - loss: 0.2898\n",
      "Epoch 25/50\n",
      "30/30 [==============================] - 0s 1ms/step - loss: 0.2873\n",
      "Epoch 26/50\n",
      "30/30 [==============================] - 0s 828us/step - loss: 0.2851\n",
      "Epoch 27/50\n",
      "30/30 [==============================] - 0s 1ms/step - loss: 0.2831\n",
      "Epoch 28/50\n",
      "30/30 [==============================] - 0s 966us/step - loss: 0.2795\n",
      "Epoch 29/50\n",
      "30/30 [==============================] - 0s 966us/step - loss: 0.2772\n",
      "Epoch 30/50\n",
      "30/30 [==============================] - 0s 897us/step - loss: 0.2742\n",
      "Epoch 31/50\n",
      "30/30 [==============================] - 0s 966us/step - loss: 0.2724\n",
      "Epoch 32/50\n",
      "30/30 [==============================] - 0s 1ms/step - loss: 0.2696\n",
      "Epoch 33/50\n",
      "30/30 [==============================] - 0s 1ms/step - loss: 0.2677\n",
      "Epoch 34/50\n",
      "30/30 [==============================] - 0s 965us/step - loss: 0.2657\n",
      "Epoch 35/50\n",
      "30/30 [==============================] - 0s 1ms/step - loss: 0.2639\n",
      "Epoch 36/50\n",
      "30/30 [==============================] - 0s 1ms/step - loss: 0.2613\n",
      "Epoch 37/50\n",
      "30/30 [==============================] - 0s 1ms/step - loss: 0.2591\n",
      "Epoch 38/50\n",
      "30/30 [==============================] - 0s 1ms/step - loss: 0.2573\n",
      "Epoch 39/50\n",
      "30/30 [==============================] - 0s 966us/step - loss: 0.2553\n",
      "Epoch 40/50\n",
      "30/30 [==============================] - 0s 862us/step - loss: 0.2537\n",
      "Epoch 41/50\n",
      "30/30 [==============================] - 0s 966us/step - loss: 0.2526\n",
      "Epoch 42/50\n",
      "30/30 [==============================] - 0s 965us/step - loss: 0.2501\n",
      "Epoch 43/50\n",
      "30/30 [==============================] - 0s 1ms/step - loss: 0.2486\n",
      "Epoch 44/50\n",
      "30/30 [==============================] - 0s 1ms/step - loss: 0.2465\n",
      "Epoch 45/50\n",
      "30/30 [==============================] - 0s 1ms/step - loss: 0.2453\n",
      "Epoch 46/50\n",
      "30/30 [==============================] - 0s 1ms/step - loss: 0.2443\n",
      "Epoch 47/50\n",
      "30/30 [==============================] - 0s 1ms/step - loss: 0.2421\n",
      "Epoch 48/50\n",
      "30/30 [==============================] - 0s 1ms/step - loss: 0.2407\n",
      "Epoch 49/50\n",
      "30/30 [==============================] - 0s 1ms/step - loss: 0.2409\n",
      "Epoch 50/50\n",
      "30/30 [==============================] - 0s 1ms/step - loss: 0.2372\n"
     ]
    }
   ],
   "source": [
    "trained_model = model.fit(X_train_ss, y_train, epochs=50,batch_size=32)"
   ]
  },
  {
   "cell_type": "code",
   "execution_count": 11,
   "metadata": {},
   "outputs": [
    {
     "data": {
      "text/plain": [
       "[<matplotlib.lines.Line2D at 0x1af469db9d0>]"
      ]
     },
     "execution_count": 11,
     "metadata": {},
     "output_type": "execute_result"
    },
    {
     "data": {
      "image/png": "[encoded data removed]",
      "text/plain": [
       "<Figure size 432x288 with 1 Axes>"
      ]
     },
     "metadata": {
      "needs_background": "light"
     },
     "output_type": "display_data"
    }
   ],
   "source": [
    "plt.plot(trained_model.history[\"loss\"])"
   ]
  },
  {
   "cell_type": "code",
   "execution_count": 12,
   "metadata": {},
   "outputs": [
    {
     "name": "stdout",
     "output_type": "stream",
     "text": [
      "              precision    recall  f1-score   support\n",
      "\n",
      "           0       0.84      0.92      0.88       157\n",
      "           1       0.95      0.89      0.92       245\n",
      "\n",
      "    accuracy                           0.90       402\n",
      "   macro avg       0.90      0.91      0.90       402\n",
      "weighted avg       0.91      0.90      0.90       402\n",
      "\n"
     ]
    }
   ],
   "source": [
    "y_pred = model.predict(X_test_ss)\n",
    "y_pred = np.where(y_pred >= 0.5,1,0)\n",
    "from sklearn.metrics import classification_report\n",
    "print(classification_report(y_test,y_pred))"
   ]
  },
  {
   "cell_type": "code",
   "execution_count": null,
   "metadata": {},
   "outputs": [],
   "source": []
  }
 ],
 "metadata": {
  "kernelspec": {
   "display_name": "Python 3",
   "language": "python",
   "name": "python3"
  },
  "language_info": {
   "codemirror_mode": {
    "name": "ipython",
    "version": 3
   },
   "file_extension": ".py",
   "mimetype": "text/x-python",
   "name": "python",
   "nbconvert_exporter": "python",
   "pygments_lexer": "ipython3",
   "version": "3.8.5"
  }
 },
 "nbformat": 4,
 "nbformat_minor": 4
}
